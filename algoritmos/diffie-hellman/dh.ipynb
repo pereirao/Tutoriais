{
 "metadata": {
  "language_info": {
   "codemirror_mode": {
    "name": "ipython",
    "version": 3
   },
   "file_extension": ".py",
   "mimetype": "text/x-python",
   "name": "python",
   "nbconvert_exporter": "python",
   "pygments_lexer": "ipython3",
   "version": "3.8.5-final"
  },
  "orig_nbformat": 2,
  "kernelspec": {
   "name": "python_defaultSpec_1598460999625",
   "display_name": "Python 3.8.5 64-bit"
  }
 },
 "nbformat": 4,
 "nbformat_minor": 2,
 "cells": [
  {
   "cell_type": "code",
   "execution_count": 69,
   "metadata": {
    "tags": []
   },
   "outputs": [],
   "source": [
    "import random\n",
    "import gmpy2\n",
    "from gmpy2 import mpz"
   ]
  },
  {
   "cell_type": "code",
   "execution_count": 70,
   "metadata": {
    "tags": []
   },
   "outputs": [
    {
     "output_type": "stream",
     "name": "stdout",
     "text": "GEN..: 17, BASE: 97585778568538477387853487\n"
    }
   ],
   "source": [
    "GEN = 17\n",
    "BASE = mpz(97585778568538477387853487)\n",
    "print(f\"GEN..: {GEN}, BASE: {BASE}\")"
   ]
  },
  {
   "cell_type": "code",
   "execution_count": 71,
   "metadata": {
    "tags": []
   },
   "outputs": [
    {
     "output_type": "stream",
     "name": "stdout",
     "text": "A..: SECRET: 39521669838499745866357928, PUBLIC: 29656252220850439675963516\n"
    }
   ],
   "source": [
    "A_SECRET = mpz(random.randint(1, BASE))\n",
    "A_PUBLIC = mpz(gmpy2.powmod(GEN, A_SECRET, BASE))\n",
    "print(f\"A..: SECRET: {A_SECRET}, PUBLIC: {A_PUBLIC}\")"
   ]
  },
  {
   "cell_type": "code",
   "execution_count": 72,
   "metadata": {
    "tags": []
   },
   "outputs": [
    {
     "output_type": "stream",
     "name": "stdout",
     "text": "B.: SECRET: 22526030581723700439204447, PUBLIC: 27218604225994608476961323\n"
    }
   ],
   "source": [
    "B_SECRET = mpz(random.randint(1, BASE))\n",
    "B_PUBLIC = mpz(gmpy2.powmod(GEN, B_SECRET, BASE))\n",
    "print(f\"B.: SECRET: {B_SECRET}, PUBLIC: {B_PUBLIC}\")"
   ]
  },
  {
   "cell_type": "code",
   "execution_count": 73,
   "metadata": {
    "tags": []
   },
   "outputs": [
    {
     "output_type": "stream",
     "name": "stdout",
     "text": "A..: HASH: 63731885845325503427563663\nB..: HASH: 63731885845325503427563663\n"
    }
   ],
   "source": [
    "A_HASH = mpz(gmpy2.powmod(B_PUBLIC, A_SECRET, BASE))\n",
    "B_HASH = mpz(gmpy2.powmod(A_PUBLIC, B_SECRET, BASE))\n",
    "print(f\"A..: HASH: {A_HASH}\")\n",
    "print(f\"B..: HASH: {B_HASH}\")"
   ]
  },
  {
   "cell_type": "code",
   "execution_count": 87,
   "metadata": {
    "tags": []
   },
   "outputs": [
    {
     "output_type": "error",
     "ename": "StopIteration",
     "evalue": "",
     "traceback": [
      "\u001b[1;31m---------------------------------------------------------------------------\u001b[0m",
      "\u001b[1;31mStopIteration\u001b[0m                             Traceback (most recent call last)",
      "\u001b[1;32m<ipython-input-87-c3cf551b7907>\u001b[0m in \u001b[0;36m<module>\u001b[1;34m\u001b[0m\n\u001b[0;32m      5\u001b[0m \u001b[0mx\u001b[0m \u001b[1;33m=\u001b[0m \u001b[0mteste\u001b[0m\u001b[1;33m(\u001b[0m\u001b[1;36m3\u001b[0m\u001b[1;33m)\u001b[0m\u001b[1;33m\u001b[0m\u001b[1;33m\u001b[0m\u001b[0m\n\u001b[0;32m      6\u001b[0m \u001b[0mnext\u001b[0m\u001b[1;33m(\u001b[0m\u001b[0mx\u001b[0m\u001b[1;33m)\u001b[0m\u001b[1;33m\u001b[0m\u001b[1;33m\u001b[0m\u001b[0m\n\u001b[1;32m----> 7\u001b[1;33m \u001b[0mnext\u001b[0m\u001b[1;33m(\u001b[0m\u001b[0mx\u001b[0m\u001b[1;33m)\u001b[0m\u001b[1;33m\u001b[0m\u001b[1;33m\u001b[0m\u001b[0m\n\u001b[0m",
      "\u001b[1;31mStopIteration\u001b[0m: "
     ]
    }
   ],
   "source": [
    "def teste(n):\n",
    "    n += 1\n",
    "    yield (n)\n",
    "\n",
    "x = teste(3)\n",
    "next(x)\n",
    "next(x)"
   ]
  }
 ]
}