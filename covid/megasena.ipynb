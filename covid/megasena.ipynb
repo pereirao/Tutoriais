{
 "cells": [
  {
   "cell_type": "code",
   "execution_count": null,
   "metadata": {},
   "outputs": [],
   "source": [
    "import pandas as pd\n",
    "import lxml"
   ]
  },
  {
   "cell_type": "code",
   "execution_count": null,
   "metadata": {},
   "outputs": [],
   "source": [
    "def check_dezenas(dezenas):\n",
    "    check = False\n",
    "    if len(dezenas) > 0 and len(dezenas) < 4:\n",
    "        if len(dezenas) > 1:\n",
    "            has_even = False\n",
    "            has_odd = False\n",
    "            for d in dezenas:\n",
    "                if d % 2 == 0:\n",
    "                    has_even = True\n",
    "                else:\n",
    "                    has_odd = True\n",
    "            if has_even and has_odd:\n",
    "                check = True\n",
    "        else:\n",
    "            check = True\n",
    "    return check\n",
    "\n",
    "def check_dezenas_2(dezenas):\n",
    "    check = 0\n",
    "    if len(dezenas) > 0 and len(dezenas) < 4:\n",
    "        if len(dezenas) > 1:\n",
    "            has_even = False\n",
    "            has_odd = False\n",
    "            for d in dezenas:\n",
    "                if d % 2 == 0:\n",
    "                    has_even = True\n",
    "                else:\n",
    "                    has_odd = True\n",
    "            if has_even and has_odd:\n",
    "                check = 1\n",
    "        else:\n",
    "            check = 1\n",
    "    return check"
   ]
  },
  {
   "cell_type": "code",
   "execution_count": null,
   "metadata": {},
   "outputs": [],
   "source": [
    "resultados_list = pd.read_html(\"./resultados.html\")\n",
    "q1 = [1, 2, 3, 4, 5, 11, 12, 13, 14, 15, 21, 22, 23, 24, 25]\n",
    "q2 = [6, 7, 8, 9, 10, 16, 17, 18, 19, 20, 26, 27, 28, 29, 30]\n",
    "q3 = [31, 32, 33, 34, 35, 41, 42, 43, 44, 45, 51, 52, 53, 54, 55]\n",
    "q4 = [36, 37, 38, 39, 40, 46, 47, 48, 49, 50, 56, 57, 58, 59, 60]\n",
    "resultados = resultados_list[0]\n"
   ]
  },
  {
   "cell_type": "code",
   "execution_count": null,
   "metadata": {},
   "outputs": [],
   "source": [
    "n = 0\n",
    "r = []\n",
    "for _, resultado in resultados.iterrows():\n",
    "    dezenas = [resultado.Coluna1, resultado.Coluna2, resultado.Coluna3, resultado.Coluna4, resultado.Coluna5, resultado.Coluna6]\n",
    "    dq1 = [d for d in dezenas if d in q1]\n",
    "    dq2 = [d for d in dezenas if d in q2]\n",
    "    dq3 = [d for d in dezenas if d in q3]\n",
    "    dq4 = [d for d in dezenas if d in q4]\n",
    "    if check_dezenas(dq1):\n",
    "        if check_dezenas(dq2):\n",
    "            if check_dezenas(dq3):\n",
    "                if check_dezenas(dq4):\n",
    "                    n += 1\n",
    "                    r.append(resultado.Concurso)\n",
    "print(round(n / len(resultados), 4) * 100, r)"
   ]
  },
  {
   "cell_type": "code",
   "execution_count": null,
   "metadata": {},
   "outputs": [],
   "source": [
    "n = 0\n",
    "r = []\n",
    "for _, resultado in resultados.iterrows():\n",
    "    dezenas = [resultado.Coluna1, resultado.Coluna2, resultado.Coluna3, resultado.Coluna4, resultado.Coluna5, resultado.Coluna6]\n",
    "    dq1 = [d for d in dezenas if d in q1]\n",
    "    dq2 = [d for d in dezenas if d in q2]\n",
    "    dq3 = [d for d in dezenas if d in q3]\n",
    "    dq4 = [d for d in dezenas if d in q4]\n",
    "    c = 0\n",
    "    c += check_dezenas_2(dq1)\n",
    "    c += check_dezenas_2(dq2)\n",
    "    c += check_dezenas_2(dq3)\n",
    "    c += check_dezenas_2(dq4)\n",
    "    if c > 2:\n",
    "        n += 1\n",
    "        r.append(resultado.Concurso)\n",
    "print(round(n / len(resultados), 4) * 100, r)"
   ]
  }
 ],
 "metadata": {
  "kernelspec": {
   "display_name": "Python 3.10.6 ('venv': venv)",
   "language": "python",
   "name": "python3"
  },
  "language_info": {
   "codemirror_mode": {
    "name": "ipython",
    "version": 3
   },
   "file_extension": ".py",
   "mimetype": "text/x-python",
   "name": "python",
   "nbconvert_exporter": "python",
   "pygments_lexer": "ipython3",
   "version": "3.10.6"
  },
  "orig_nbformat": 4,
  "vscode": {
   "interpreter": {
    "hash": "fdcda0056a537d92fc194682997ea1f73ee57e7e77e0e7790fc4921816008ea1"
   }
  }
 },
 "nbformat": 4,
 "nbformat_minor": 2
}
