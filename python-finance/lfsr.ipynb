{
 "cells": [
  {
   "cell_type": "markdown",
   "source": [
    "# LFSR - Linear Feedback Shift Register\r\n",
    "\r\n",
    "## Computerphile\r\n",
    "\r\n",
    "[Youtube Video](https://youtu.be/Ks1pw1X22y4)"
   ],
   "metadata": {}
  },
  {
   "cell_type": "code",
   "execution_count": null,
   "source": [
    "start = state = 0b1001\r\n",
    "while True:\r\n",
    "    print(f\"{state:04b}\")\r\n",
    "    newbit = (state ^ (state >> 1)) & 1\r\n",
    "    state = (state >> 1) | (newbit << 3)\r\n",
    "    if start == state:\r\n",
    "        break"
   ],
   "outputs": [],
   "metadata": {}
  },
  {
   "cell_type": "code",
   "execution_count": null,
   "source": [
    "start = state = 0b1001\r\n",
    "while True:\r\n",
    "    print(state & 1, end = '')\r\n",
    "    newbit = (state ^ (state >> 1)) & 1\r\n",
    "    state = (state >> 1) | (newbit << 3)\r\n",
    "    if start == state:\r\n",
    "        break"
   ],
   "outputs": [],
   "metadata": {}
  },
  {
   "cell_type": "code",
   "execution_count": 8,
   "source": [
    "start = state = (1 << 8) | 1\r\n",
    "while True:\r\n",
    "    print(state & 1, end = '')\r\n",
    "    newbit = (state ^ (state >> 1) ^ (state >> 2) ^ (state >> 3)) & 1\r\n",
    "    state = (state >> 1) | (newbit << 8)\r\n",
    "    if start == state:\r\n",
    "        break"
   ],
   "outputs": [
    {
     "output_type": "stream",
     "name": "stdout",
     "text": [
      "100000001100001000101111110110001110011011000011001010000100110111000111101101011101001111010010110101010"
     ]
    }
   ],
   "metadata": {}
  },
  {
   "cell_type": "code",
   "execution_count": null,
   "source": [
    "start = state = (1 << 127) | 1\r\n",
    "while True:\r\n",
    "    print(state & 1, end = '')\r\n",
    "    newbit = (state ^ (state >> 1) ^ (state >> 2) ^ (state >> 7)) & 1\r\n",
    "    state = (state >> 1) | (newbit << 127)\r\n",
    "    if start == state:\r\n",
    "        break"
   ],
   "outputs": [],
   "metadata": {}
  }
 ],
 "metadata": {
  "orig_nbformat": 4,
  "language_info": {
   "name": "python",
   "version": "3.9.5",
   "mimetype": "text/x-python",
   "codemirror_mode": {
    "name": "ipython",
    "version": 3
   },
   "pygments_lexer": "ipython3",
   "nbconvert_exporter": "python",
   "file_extension": ".py"
  },
  "kernelspec": {
   "name": "python3",
   "display_name": "Python 3.9.5 64-bit ('tests')"
  },
  "interpreter": {
   "hash": "a33fb58f474b89f640e96952ec97759000a9ecc0265423d2df70b8db47a57dae"
  }
 },
 "nbformat": 4,
 "nbformat_minor": 2
}