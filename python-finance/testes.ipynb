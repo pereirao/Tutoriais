{
 "cells": [
  {
   "cell_type": "markdown",
   "metadata": {},
   "source": [
    "## Reverse Text"
   ]
  },
  {
   "cell_type": "code",
   "execution_count": 1,
   "metadata": {},
   "outputs": [
    {
     "name": "stdout",
     "output_type": "stream",
     "text": [
      "!dlrow ,olleH\n"
     ]
    }
   ],
   "source": [
    "def reverse_string(text):\n",
    "    txet = \"\"\n",
    "    for letter in text:\n",
    "        txet = letter + txet\n",
    "    return txet\n",
    "\n",
    "print(reverse_string(\"Hello, world!\"))"
   ]
  },
  {
   "cell_type": "markdown",
   "metadata": {},
   "source": [
    "## Sum 2D matrix"
   ]
  },
  {
   "cell_type": "code",
   "execution_count": 2,
   "metadata": {},
   "outputs": [
    {
     "name": "stdout",
     "output_type": "stream",
     "text": [
      "45\n"
     ]
    }
   ],
   "source": [
    "def sum_2d_matrix(matrix):\n",
    "    total = 0\n",
    "    for row in matrix:\n",
    "        for column in row:\n",
    "            total += column\n",
    "    return total\n",
    "\n",
    "print(sum_2d_matrix([[1,2,3],[4,5,6],[7,8,9]]))"
   ]
  },
  {
   "cell_type": "code",
   "execution_count": 3,
   "metadata": {},
   "outputs": [
    {
     "name": "stdout",
     "output_type": "stream",
     "text": [
      "[3, 5]\n"
     ]
    }
   ],
   "source": [
    "def two_sum(matrix, sum):\n",
    "    for m in range(len(matrix) - 1):\n",
    "        for n in range(m + 1, len(matrix)):\n",
    "            if matrix[m] + matrix[n] == sum:\n",
    "                return([matrix[m], matrix[n]])\n",
    "\n",
    "print(two_sum([1,2,3,4,5], 8))"
   ]
  },
  {
   "cell_type": "code",
   "execution_count": 4,
   "metadata": {},
   "outputs": [
    {
     "name": "stdout",
     "output_type": "stream",
     "text": [
      "(1, 10)\n",
      "(1, 20)\n",
      "(1, 30)\n",
      "(2, 10)\n",
      "(2, 20)\n",
      "(2, 30)\n",
      "(3, 10)\n",
      "(3, 20)\n",
      "(3, 30)\n"
     ]
    }
   ],
   "source": [
    "import itertools as it\n",
    "x = it.product([1,2,3], [10, 20, 30])\n",
    "for i in x:\n",
    "    print(i)"
   ]
  },
  {
   "cell_type": "code",
   "execution_count": 5,
   "metadata": {},
   "outputs": [
    {
     "name": "stdout",
     "output_type": "stream",
     "text": [
      "Yo momma is so tall that she tripped in Michigan and bumped her head in Florida.\n"
     ]
    }
   ],
   "source": [
    "import urllib, json\n",
    "\n",
    "joke = json.loads(urllib.request.urlopen(\"https://yomomma-api.herokuapp.com/jokes\").read())\n",
    "\n",
    "print(joke.get(\"joke\"))"
   ]
  },
  {
   "cell_type": "code",
   "execution_count": 6,
   "metadata": {},
   "outputs": [
    {
     "name": "stdout",
     "output_type": "stream",
     "text": [
      "[(25, 'B'), (21, 'C'), (29, 'E')]\n",
      "[10, -25, 40]\n",
      "[2, 4, 6, 8, 6, 12, 18, 24, 10, 20, 30, 40, 14, 28, 42, 56]\n",
      "[(1, 2), (1, 4), (1, 6), (1, 8), (3, 2), (3, 4), (3, 6), (3, 8), (5, 2), (5, 4), (5, 6), (5, 8), (7, 2), (7, 4), (7, 6), (7, 8)]\n"
     ]
    }
   ],
   "source": [
    "x = [\n",
    "    ('A', 10),\n",
    "    ('B', 25),\n",
    "    ('C', 21),\n",
    "    ('D', 19),\n",
    "    ('E', 29),\n",
    "    ('F', 12)\n",
    "]\n",
    "y = [(a, n) for (n, a) in x if a > 20]\n",
    "print(y)\n",
    "\n",
    "x = [2, -5, 8]\n",
    "y = [n * 5 for n in x]\n",
    "print(y)\n",
    "\n",
    "a = [1, 3, 5, 7]\n",
    "b = [2, 4, 6, 8]\n",
    "c = [m * n for m in a for n in b]\n",
    "d = [(m, n) for m in a for n in b]\n",
    "print(c)\n",
    "print(d)"
   ]
  },
  {
   "cell_type": "code",
   "execution_count": 7,
   "metadata": {},
   "outputs": [
    {
     "name": "stdout",
     "output_type": "stream",
     "text": [
      "18729 dias\n",
      "b'\\x80\\x04\\x95s\\x00\\x00\\x00\\x00\\x00\\x00\\x00\\x8c\\x08__main__\\x94\\x8c\\x06Pessoa\\x94\\x93\\x94)\\x81\\x94}\\x94(\\x8c\\x04nome\\x94\\x8c\\tAlexandre\\x94\\x8c\\nnascimento\\x94\\x8c\\x08datetime\\x94\\x8c\\x08datetime\\x94\\x93\\x94C\\n\\x07\\xb3\\x03\\x16\\x00\\x00\\x00\\x00\\x00\\x00\\x94\\x85\\x94R\\x94\\x8c\\x04sexo\\x94\\x8c\\x01M\\x94ub.'\n"
     ]
    }
   ],
   "source": [
    "from datetime import datetime\n",
    "import pickle\n",
    "\n",
    "class Pessoa:\n",
    "\n",
    "    def __init__(self, nome, sexo, nascimento) -> None:\n",
    "        self.nome = nome\n",
    "        self.nascimento = nascimento\n",
    "        self.sexo = sexo\n",
    "\n",
    "    def idade(self):\n",
    "        delta =  datetime.now() - self.nascimento\n",
    "        return f\"{delta.days} dias\" \n",
    "\n",
    "p = Pessoa(\"Alexandre\", \"M\", datetime(1971, 3, 22))\n",
    "print(p.idade())\n",
    "\n",
    "print(pickle.dumps(p))\n"
   ]
  },
  {
   "cell_type": "code",
   "execution_count": 8,
   "metadata": {},
   "outputs": [
    {
     "name": "stdout",
     "output_type": "stream",
     "text": [
      "2\n",
      "3\n",
      "5\n",
      "7\n",
      "11\n",
      "13\n",
      "17\n",
      "19\n",
      "23\n",
      "29\n"
     ]
    }
   ],
   "source": [
    "def getprime():\n",
    "    primes = []\n",
    "    number = 2\n",
    "    while True:\n",
    "        prime = True\n",
    "        for n in primes:\n",
    "            if number % n == 0:\n",
    "                prime = False\n",
    "        if prime:\n",
    "            primes.append(number)\n",
    "            yield number\n",
    "        number += 1\n",
    "\n",
    "n = 1\n",
    "for p in getprime():\n",
    "    print(p)\n",
    "    n += 1\n",
    "    if n > 10:\n",
    "        break\n"
   ]
  },
  {
   "cell_type": "code",
   "execution_count": 84,
   "metadata": {},
   "outputs": [],
   "source": [
    "import pandas as pd\n",
    "import html5lib\n",
    "\n",
    "ds = pd.read_html(\"https://en.wikipedia.org/wiki/List_of_largest_cities\")[1]"
   ]
  },
  {
   "cell_type": "code",
   "execution_count": 114,
   "metadata": {},
   "outputs": [
    {
     "name": "stdout",
     "output_type": "stream",
     "text": [
      "[Angola]------------------------\n",
      "      City  Population\n",
      "44  Luanda   7774000.0\n",
      "[Argentina]------------------------\n",
      "            City  Population\n",
      "13  Buenos Aires  14967000.0\n",
      "[Bangladesh]------------------------\n",
      "    City  Population\n",
      "9  Dhaka  19578000.0\n",
      "[Brazil]------------------------\n",
      "              City  Population\n",
      "4        São Paulo  21650000.0\n",
      "19  Rio de Janeiro  13293000.0\n",
      "66  Belo Horizonte   5972000.0\n",
      "[Canada]------------------------\n",
      "       City  Population\n",
      "63  Toronto   6082000.0\n",
      "[Chile]------------------------\n",
      "        City  Population\n",
      "55  Santiago   6680000.0\n",
      "[China]------------------------\n",
      "         City  Population\n",
      "3    Shanghai  25582000.0\n",
      "8     Beijing  19618000.0\n",
      "14  Chongqing  14838000.0\n",
      "20    Tianjin  13215000.0\n",
      "22  Guangzhou  12638000.0\n",
      "25   Shenzhen  11908000.0\n",
      "40    Chengdu   8813000.0\n",
      "41    Nanjing   8245000.0\n",
      "42      Wuhan   8176000.0\n",
      "47      Xi'an   7444000.0\n",
      "48  Hong Kong   7429000.0\n",
      "49   Dongguan   7360000.0\n",
      "50   Hangzhou   7236000.0\n",
      "51     Foshan   7236000.0\n",
      "52   Shenyang   6921000.0\n",
      "58     Suzhou   6339000.0\n",
      "60     Harbin   6115000.0\n",
      "75    Qingdao   5381000.0\n",
      "76     Dalian   5300000.0\n",
      "80      Jinan   5052000.0\n",
      "[Colombia]------------------------\n",
      "      City  Population\n",
      "29  Bogotá  10574000.0\n",
      "[DR Congo]------------------------\n",
      "        City  Population\n",
      "21  Kinshasa  13171000.0\n",
      "[Egypt]------------------------\n",
      "          City  Population\n",
      "6        Cairo  20076000.0\n",
      "79  Alexandria   5086000.0\n",
      "[France]------------------------\n",
      "     City  Population\n",
      "28  Paris  10901000.0\n",
      "[India]------------------------\n",
      "         City  Population\n",
      "2       Delhi  28514000.0\n",
      "7      Mumbai  19980000.0\n",
      "16    Kolkata  14681000.0\n",
      "27  Bangalore  11440000.0\n",
      "31    Chennai  10456000.0\n",
      "36  Hyderabad   9482000.0\n",
      "45  Ahmedabad   7681000.0\n",
      "56      Surat   6564000.0\n",
      "59       Pune   6276000.0\n",
      "[Indonesia]------------------------\n",
      "       City  Population\n",
      "30  Jakarta  10517000.0\n",
      "[Iran]------------------------\n",
      "      City  Population\n",
      "38  Tehran   8896000.0\n",
      "[Iraq]------------------------\n",
      "       City  Population\n",
      "54  Baghdad   6812000.0\n",
      "[Japan]------------------------\n",
      "       City  Population\n",
      "1     Tokyo  37468000.0\n",
      "10    Osaka  19281000.0\n",
      "35   Nagoya   9507000.0\n",
      "70  Fukuoka   5551000.0\n",
      "[Malaysia]------------------------\n",
      "            City  Population\n",
      "46  Kuala Lumpur   7564000.0\n",
      "[Mexico]------------------------\n",
      "           City  Population\n",
      "5   Mexico City  21581000.0\n",
      "81  Guadalajara   5023000.0\n",
      "[Myanmar]------------------------\n",
      "      City  Population\n",
      "78  Yangon   5157000.0\n",
      "[Nigeria]------------------------\n",
      "     City  Population\n",
      "18  Lagos  13463000.0\n",
      "[Pakistan]------------------------\n",
      "       City  Population\n",
      "12  Karachi  15400000.0\n",
      "26   Lahore  11738000.0\n",
      "[Peru]------------------------\n",
      "    City  Population\n",
      "32  Lima  10391000.0\n",
      "[Philippines]------------------------\n",
      "      City  Population\n",
      "17  Manila  13482000.0\n",
      "[Russia]------------------------\n",
      "                City  Population\n",
      "24            Moscow  12410000.0\n",
      "74  Saint Petersburg   5383000.0\n",
      "[Saudi Arabia]------------------------\n",
      "      City  Population\n",
      "53  Riyadh   6907000.0\n",
      "[Singapore]------------------------\n",
      "         City  Population\n",
      "67  Singapore   5792000.0\n",
      "[South Africa]------------------------\n",
      "            City  Population\n",
      "73  Johannesburg   5486000.0\n",
      "[South Korea]------------------------\n",
      "     City  Population\n",
      "34  Seoul   9963000.0\n",
      "[Spain]------------------------\n",
      "         City  Population\n",
      "57     Madrid   6497000.0\n",
      "72  Barcelona   5494000.0\n",
      "[Sudan]------------------------\n",
      "        City  Population\n",
      "71  Khartoum   5534000.0\n",
      "[Tanzania]------------------------\n",
      "             City  Population\n",
      "64  Dar es Salaam   6048000.0\n",
      "[Thailand]------------------------\n",
      "       City  Population\n",
      "33  Bangkok  10156000.0\n",
      "[Turkey]------------------------\n",
      "        City  Population\n",
      "15  Istanbul  14751000.0\n",
      "[United Kingdom]------------------------\n",
      "      City  Population\n",
      "37  London   9046000.0\n",
      "[United States]------------------------\n",
      "                            City  Population\n",
      "11                      New York  18819000.0\n",
      "23                   Los Angeles  12458000.0\n",
      "39                       Chicago   8864000.0\n",
      "61                       Houston   6115000.0\n",
      "62                        Dallas   6099000.0\n",
      "65                         Miami   6036000.0\n",
      "68                  Philadelphia   5695000.0\n",
      "69                       Atlanta   5572000.0\n",
      "77  Washington metropolitan area   5207000.0\n",
      "[Vietnam]------------------------\n",
      "                City  Population\n",
      "43  Ho Chi Minh City   8145000.0\n"
     ]
    }
   ],
   "source": [
    "df = ds.iloc[1:,[0, 1, 2]]\n",
    "df.columns = [\"City\", \"Country\", \"Population\"]\n",
    "for country, cities in df.groupby(\"Country\"):\n",
    "    print(f'[{country}]------------------------')\n",
    "    print(cities.iloc[:, [0, 2]])"
   ]
  }
 ],
 "metadata": {
  "kernelspec": {
   "display_name": "Python 3.9.5 ('tests')",
   "language": "python",
   "name": "python3"
  },
  "language_info": {
   "codemirror_mode": {
    "name": "ipython",
    "version": 3
   },
   "file_extension": ".py",
   "mimetype": "text/x-python",
   "name": "python",
   "nbconvert_exporter": "python",
   "pygments_lexer": "ipython3",
   "version": "3.9.5"
  },
  "orig_nbformat": 4,
  "vscode": {
   "interpreter": {
    "hash": "ddda4821ae3580586fd9a559e975300595b1080ef89ed59c21989db7fdb3373f"
   }
  }
 },
 "nbformat": 4,
 "nbformat_minor": 2
}
