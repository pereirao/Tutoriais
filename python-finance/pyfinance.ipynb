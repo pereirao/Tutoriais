{
 "cells": [
  {
   "cell_type": "markdown",
   "source": [
    "# Python for Finance\r\n",
    "### by Derek Banas\r\n",
    "[Youtube Playlist](https://www.youtube.com/playlist?list=PLGLfVvz_LVvTHOWIEBAl-YOr_FC8lRmWX)"
   ],
   "metadata": {}
  },
  {
   "cell_type": "markdown",
   "source": [
    "## Imports"
   ],
   "metadata": {}
  },
  {
   "cell_type": "code",
   "execution_count": null,
   "source": [
    "import numpy as np\r\n",
    "import pandas as pd\r\n",
    "from pandas_datareader import data as web\r\n",
    "import matplotlib.pyplot as plt\r\n",
    "import matplotlib.dates as mdates\r\n",
    "%matplotlib inline\r\n",
    "import datetime as dt\r\n",
    "import mplfinance as mpf"
   ],
   "outputs": [],
   "metadata": {}
  },
  {
   "cell_type": "markdown",
   "source": [
    "## Function that saves stock data to CSV"
   ],
   "metadata": {}
  },
  {
   "cell_type": "code",
   "execution_count": null,
   "source": [
    "def save_to_csv_from_yahoo(ticker, syear, smonth, sday, eyear, emonth, eday):\r\n",
    "    start = dt.datetime(syear, smonth, sday)\r\n",
    "    end = dt.datetime(eyear, emonth, eday)\r\n",
    "\r\n",
    "    df = web.DataReader(ticker, 'yahoo', start, end)\r\n",
    "\r\n",
    "    df.to_csv(\"./\" + ticker + \".csv\")\r\n",
    "    return df"
   ],
   "outputs": [],
   "metadata": {}
  },
  {
   "cell_type": "markdown",
   "source": [
    "## Function that returns a dataframe from a CSV"
   ],
   "metadata": {}
  },
  {
   "cell_type": "code",
   "execution_count": null,
   "source": [
    "def get_df_from_csv(ticker):\r\n",
    "    try:\r\n",
    "        df = pd.read_csv(\"./\" + ticker + '.csv')\r\n",
    "    except FileNotFoundError:\r\n",
    "        print(\"File not found\")\r\n",
    "    else:\r\n",
    "        return df"
   ],
   "outputs": [],
   "metadata": {}
  },
  {
   "cell_type": "markdown",
   "source": [
    "## Add daily return to dataframe"
   ],
   "metadata": {}
  },
  {
   "cell_type": "code",
   "execution_count": null,
   "source": [],
   "outputs": [],
   "metadata": {}
  },
  {
   "cell_type": "markdown",
   "source": [
    "## Returns total return over time"
   ],
   "metadata": {}
  },
  {
   "cell_type": "code",
   "execution_count": null,
   "source": [],
   "outputs": [],
   "metadata": {}
  },
  {
   "cell_type": "markdown",
   "source": [
    "## Test functions"
   ],
   "metadata": {}
  },
  {
   "cell_type": "code",
   "execution_count": null,
   "source": [],
   "outputs": [],
   "metadata": {}
  },
  {
   "cell_type": "code",
   "execution_count": 20,
   "source": [
    "# save_to_csv_from_yahoo('AMZN', 2021, 1, 1, 2021, 6, 30)\r\n",
    "ticker = get_df_from_csv('GOGL')\r\n",
    "ticker"
   ],
   "outputs": [
    {
     "output_type": "execute_result",
     "data": {
      "text/html": [
       "<div>\n",
       "<style scoped>\n",
       "    .dataframe tbody tr th:only-of-type {\n",
       "        vertical-align: middle;\n",
       "    }\n",
       "\n",
       "    .dataframe tbody tr th {\n",
       "        vertical-align: top;\n",
       "    }\n",
       "\n",
       "    .dataframe thead th {\n",
       "        text-align: right;\n",
       "    }\n",
       "</style>\n",
       "<table border=\"1\" class=\"dataframe\">\n",
       "  <thead>\n",
       "    <tr style=\"text-align: right;\">\n",
       "      <th></th>\n",
       "      <th>Date</th>\n",
       "      <th>High</th>\n",
       "      <th>Low</th>\n",
       "      <th>Open</th>\n",
       "      <th>Close</th>\n",
       "      <th>Volume</th>\n",
       "      <th>Adj Close</th>\n",
       "    </tr>\n",
       "  </thead>\n",
       "  <tbody>\n",
       "    <tr>\n",
       "      <th>0</th>\n",
       "      <td>2021-01-04</td>\n",
       "      <td>4.92</td>\n",
       "      <td>4.73</td>\n",
       "      <td>4.89</td>\n",
       "      <td>4.78</td>\n",
       "      <td>338400.0</td>\n",
       "      <td>4.666407</td>\n",
       "    </tr>\n",
       "    <tr>\n",
       "      <th>1</th>\n",
       "      <td>2021-01-05</td>\n",
       "      <td>4.93</td>\n",
       "      <td>4.77</td>\n",
       "      <td>4.87</td>\n",
       "      <td>4.86</td>\n",
       "      <td>517800.0</td>\n",
       "      <td>4.744506</td>\n",
       "    </tr>\n",
       "    <tr>\n",
       "      <th>2</th>\n",
       "      <td>2021-01-06</td>\n",
       "      <td>4.89</td>\n",
       "      <td>4.82</td>\n",
       "      <td>4.86</td>\n",
       "      <td>4.87</td>\n",
       "      <td>195400.0</td>\n",
       "      <td>4.754268</td>\n",
       "    </tr>\n",
       "    <tr>\n",
       "      <th>3</th>\n",
       "      <td>2021-01-07</td>\n",
       "      <td>5.01</td>\n",
       "      <td>4.93</td>\n",
       "      <td>4.98</td>\n",
       "      <td>5.00</td>\n",
       "      <td>517500.0</td>\n",
       "      <td>4.881179</td>\n",
       "    </tr>\n",
       "    <tr>\n",
       "      <th>4</th>\n",
       "      <td>2021-01-08</td>\n",
       "      <td>5.42</td>\n",
       "      <td>5.33</td>\n",
       "      <td>5.33</td>\n",
       "      <td>5.42</td>\n",
       "      <td>550000.0</td>\n",
       "      <td>5.291198</td>\n",
       "    </tr>\n",
       "    <tr>\n",
       "      <th>...</th>\n",
       "      <td>...</td>\n",
       "      <td>...</td>\n",
       "      <td>...</td>\n",
       "      <td>...</td>\n",
       "      <td>...</td>\n",
       "      <td>...</td>\n",
       "      <td>...</td>\n",
       "    </tr>\n",
       "    <tr>\n",
       "      <th>119</th>\n",
       "      <td>2021-06-24</td>\n",
       "      <td>10.75</td>\n",
       "      <td>10.45</td>\n",
       "      <td>10.54</td>\n",
       "      <td>10.72</td>\n",
       "      <td>774600.0</td>\n",
       "      <td>10.720000</td>\n",
       "    </tr>\n",
       "    <tr>\n",
       "      <th>120</th>\n",
       "      <td>2021-06-25</td>\n",
       "      <td>11.39</td>\n",
       "      <td>11.16</td>\n",
       "      <td>11.27</td>\n",
       "      <td>11.18</td>\n",
       "      <td>1414100.0</td>\n",
       "      <td>11.180000</td>\n",
       "    </tr>\n",
       "    <tr>\n",
       "      <th>121</th>\n",
       "      <td>2021-06-28</td>\n",
       "      <td>11.17</td>\n",
       "      <td>10.80</td>\n",
       "      <td>11.15</td>\n",
       "      <td>10.89</td>\n",
       "      <td>1229400.0</td>\n",
       "      <td>10.890000</td>\n",
       "    </tr>\n",
       "    <tr>\n",
       "      <th>122</th>\n",
       "      <td>2021-06-29</td>\n",
       "      <td>10.96</td>\n",
       "      <td>10.74</td>\n",
       "      <td>10.87</td>\n",
       "      <td>10.74</td>\n",
       "      <td>560600.0</td>\n",
       "      <td>10.740000</td>\n",
       "    </tr>\n",
       "    <tr>\n",
       "      <th>123</th>\n",
       "      <td>2021-06-30</td>\n",
       "      <td>11.15</td>\n",
       "      <td>10.88</td>\n",
       "      <td>10.94</td>\n",
       "      <td>11.04</td>\n",
       "      <td>1499600.0</td>\n",
       "      <td>11.040000</td>\n",
       "    </tr>\n",
       "  </tbody>\n",
       "</table>\n",
       "<p>124 rows × 7 columns</p>\n",
       "</div>"
      ],
      "text/plain": [
       "           Date   High    Low   Open  Close     Volume  Adj Close\n",
       "0    2021-01-04   4.92   4.73   4.89   4.78   338400.0   4.666407\n",
       "1    2021-01-05   4.93   4.77   4.87   4.86   517800.0   4.744506\n",
       "2    2021-01-06   4.89   4.82   4.86   4.87   195400.0   4.754268\n",
       "3    2021-01-07   5.01   4.93   4.98   5.00   517500.0   4.881179\n",
       "4    2021-01-08   5.42   5.33   5.33   5.42   550000.0   5.291198\n",
       "..          ...    ...    ...    ...    ...        ...        ...\n",
       "119  2021-06-24  10.75  10.45  10.54  10.72   774600.0  10.720000\n",
       "120  2021-06-25  11.39  11.16  11.27  11.18  1414100.0  11.180000\n",
       "121  2021-06-28  11.17  10.80  11.15  10.89  1229400.0  10.890000\n",
       "122  2021-06-29  10.96  10.74  10.87  10.74   560600.0  10.740000\n",
       "123  2021-06-30  11.15  10.88  10.94  11.04  1499600.0  11.040000\n",
       "\n",
       "[124 rows x 7 columns]"
      ]
     },
     "metadata": {},
     "execution_count": 20
    }
   ],
   "metadata": {}
  }
 ],
 "metadata": {
  "orig_nbformat": 4,
  "language_info": {
   "name": "python",
   "version": "3.9.5",
   "mimetype": "text/x-python",
   "codemirror_mode": {
    "name": "ipython",
    "version": 3
   },
   "pygments_lexer": "ipython3",
   "nbconvert_exporter": "python",
   "file_extension": ".py"
  },
  "kernelspec": {
   "name": "python3",
   "display_name": "Python 3.9.5 64-bit ('tests')"
  },
  "interpreter": {
   "hash": "a33fb58f474b89f640e96952ec97759000a9ecc0265423d2df70b8db47a57dae"
  }
 },
 "nbformat": 4,
 "nbformat_minor": 2
}